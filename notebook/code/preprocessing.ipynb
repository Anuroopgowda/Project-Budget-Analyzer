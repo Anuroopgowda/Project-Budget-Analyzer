{
 "cells": [
  {
   "cell_type": "markdown",
   "id": "8ab263f7",
   "metadata": {},
   "source": [
    "PREPROCESSING\n",
    "1.categorical feature\n",
    "2.contineous feature \n",
    "3.encoding\n",
    "4.handleing outliers\n",
    "5.feature scaling"
   ]
  },
  {
   "cell_type": "code",
   "execution_count": 1,
   "id": "11acfa7f",
   "metadata": {},
   "outputs": [],
   "source": [
    "import pandas as pd\n",
    "import numpy as np\n",
    "import seaborn as sns\n",
    "import matplotlib.pyplot as plt"
   ]
  },
  {
   "cell_type": "code",
   "execution_count": 3,
   "id": "85986d9c",
   "metadata": {},
   "outputs": [
    {
     "data": {
      "text/plain": [
       "(6760, 32)"
      ]
     },
     "execution_count": 3,
     "metadata": {},
     "output_type": "execute_result"
    }
   ],
   "source": [
    "file_path = r\"C:\\Users\\Mirafra\\Mirafra\\ML PROJECT PRACTICE\\Project-Budget-Analyzer\\notebook\\data\\data_final.csv\"\n",
    "\n",
    "# Load CSV into DataFrame\n",
    "df = pd.read_csv(file_path)\n",
    "df.shape"
   ]
  },
  {
   "cell_type": "code",
   "execution_count": 4,
   "id": "03eb4850",
   "metadata": {},
   "outputs": [
    {
     "name": "stdout",
     "output_type": "stream",
     "text": [
      "0                           [prototyping, data modelling]\n",
      "1                                                      []\n",
      "2                                                      []\n",
      "3                                                      []\n",
      "4                                                      []\n",
      "                              ...                        \n",
      "6755                                                   []\n",
      "6756                                [structured analysis]\n",
      "6757    [object oriented, data modelling, prototyping,...\n",
      "6758    [object oriented analysis, business area model...\n",
      "6759                                                   []\n",
      "Name: Cleaned_Techniques, Length: 6760, dtype: object\n"
     ]
    }
   ],
   "source": [
    "\n",
    "replace_map = {\n",
    "    \"unified modelling language (uml)\": \"uml\",\n",
    "    \"ca erwin (aet)\": \"er modelling\",\n",
    "    \"erwin\": \"er modelling\",\n",
    "    \"entity relationship modelling\": \"er modelling\",\n",
    "    \"prototyping was of screens\": \"prototyping\",\n",
    "    \"prototype includes screens & reports\": \"prototyping\",\n",
    "    \"prototyping was screens & reports\": \"prototyping\",\n",
    "    \"prototyping was screens only\": \"prototyping\",\n",
    "    \"prototyped screens\": \"prototyping\",\n",
    "    \"prototyped database structure\": \"prototyping\",\n",
    "    \"sap r/3\": \"sap\",\n",
    "    \"seer method\": \"seer\",\n",
    "    \"gane/sarson structured analysis\": \"structured analysis\"\n",
    "    \n",
    "}\n",
    "\n",
    "def clean_dev_techniques(text):\n",
    "    if pd.isna(text):\n",
    "        return []\n",
    "    # split, lowercase, strip spaces\n",
    "    items = [i.strip().lower() for i in text.split(\";\") if i.strip() != \"\"]\n",
    "    # apply replacement mapping\n",
    "    items = [replace_map.get(i, i) for i in items]\n",
    "    # remove duplicates\n",
    "    items = list(set(items))\n",
    "    return items\n",
    "\n",
    "# Apply cleaning\n",
    "df[\"Cleaned_Techniques\"] = df[\"Development Techniques\"].apply(clean_dev_techniques)\n",
    "\n",
    "print(df[\"Cleaned_Techniques\"])\n"
   ]
  },
  {
   "cell_type": "code",
   "execution_count": 5,
   "id": "debefea5",
   "metadata": {},
   "outputs": [
    {
     "name": "stdout",
     "output_type": "stream",
     "text": [
      "Number of unique techniques: 96\n",
      "['(eg performance) & verify architecture', 'acceptance testing', 'activity modelling', 'basic analysis & design techniques', 'business area modelling', 'client specific process', 'cmmi', 'code inspections', 'conceptual analysis', 'configuration management: endevor', 'configuration management: sourcesafe', 'contingency management: backups', 'cost/benefit analysis', 'data & application conversion', 'data modelling', 'datarun', 'development model', 'doa', 'effect correspondence diagrams', 'effort estimates', 'er modelling', 'event modelling', 'evolutionary with weekly demo', 'experience pro', 'expressone methodology (client customized process)', 'full life cycle testing', 'functional decomposition', 'functional sizing', 'functional spec developed in conjunction with users', 'gantt charts, rad reviews (as milestones)', 'in prototyping, screens developed with users', 'in-house, project life cycle', 'internal analysis & design standards as per method', 'interview based, informal methods', 'layouts & logic', 'lead metrics', 'mda', 'merode', 'modeling methodology: erwin', 'multiplatform development', 'netprofit', 'normalisation', 'object oriented', 'object oriented analysis', 'object oriented design', 'only normal waterfall analysis', 'oo count', 'oo count (252 classes, 8102 methods)', 'oo count (260 classes, 8656 methods,  screens)', 'oo count (315 classes, 12749 methods)', 'openup', 'pair testing', 'pm methodology: global solutions management system', 'pm methodology: project management 2', 'porting', 'problem analysis', 'process modelling', 'program generator simulates screens reports, menus', 'project management methodology: gsms', 'prototype screens and user inteface flow only', 'prototyped database structure, form design,', 'prototyped screens & report with database', 'prototyping', 'prototyping of windows & reports thru formal client reviews', 'prototyping screens & dialogue sequences, help creens', 'prototyping sreens/reports only', 'prototyping used to verify key critical factors', 'prototyping was individual transactions', 'prototyping was screens & functionality', 'prototyping was screens & reports only', 'rapid prototype model', 'rational rose', 'rational rose/xde (aet)', 'recursive model', 'regression testing', 'report design and user interface flow', 'reviews', 'risk analysis', 'sap', 'screens were prototyped', 'seer', 'sequence diagram', 'srm model', 'state diagram or conversion model', 'structural methods', 'structured', 'structured analysis', 'stuctural methods', 'system testing', 'test planning', 'test-driven development (tdd)', 'testing-oriented design', 'trial & error', 'uml', 'walkthroughs', 'wsddm']\n"
     ]
    }
   ],
   "source": [
    "# Flatten all lists into one set\n",
    "all_labels = set([tech for sublist in df[\"Cleaned_Techniques\"] for tech in sublist])\n",
    "\n",
    "# Convert to sorted list for readability\n",
    "all_labels = sorted(all_labels)\n",
    "\n",
    "print(\"Number of unique techniques:\", len(all_labels))\n",
    "print(all_labels)"
   ]
  },
  {
   "cell_type": "code",
   "execution_count": 8,
   "id": "5f55c567",
   "metadata": {},
   "outputs": [
    {
     "name": "stdout",
     "output_type": "stream",
     "text": [
      "                               Development Techniques  \\\n",
      "0                         Data Modelling;Prototyping;   \n",
      "1                                                 NaN   \n",
      "2                                                 NaN   \n",
      "3                                                 NaN   \n",
      "4                                                 NaN   \n",
      "5                                                 NaN   \n",
      "6                                                 NaN   \n",
      "7                                                 NaN   \n",
      "8                                                 NaN   \n",
      "9                                                 NaN   \n",
      "10                                                NaN   \n",
      "11                                                NaN   \n",
      "12                                                NaN   \n",
      "13  Data Modelling;Regression Testing;Testing-Orie...   \n",
      "14                                                NaN   \n",
      "15                  Data Modelling;Process Modelling;   \n",
      "16                                                NaN   \n",
      "17                                                NaN   \n",
      "18                                                NaN   \n",
      "19                                                NaN   \n",
      "\n",
      "                            Category  \n",
      "0       Analysis/Design; Prototyping  \n",
      "1                               None  \n",
      "2                               None  \n",
      "3                               None  \n",
      "4                               None  \n",
      "5                               None  \n",
      "6                               None  \n",
      "7                               None  \n",
      "8                               None  \n",
      "9                               None  \n",
      "10                              None  \n",
      "11                              None  \n",
      "12                              None  \n",
      "13   Analysis/Design; Testing; Other  \n",
      "14                              None  \n",
      "15  Analysis/Design; Analysis/Design  \n",
      "16                              None  \n",
      "17                              None  \n",
      "18                              None  \n",
      "19                              None  \n"
     ]
    }
   ],
   "source": [
    "categories = {\n",
    "    \"Testing\": [\"Unit Testing\", \"Regression Testing\", \"Integration Testing\", \"Testing-Oriented\"],\n",
    "    \"Prototyping\": [\"Prototyping\", \"Rapid Prototyping\", \"Simulation\"],\n",
    "    \"Analysis/Design\": [\"Data Modelling\", \"Process Modelling\", \"OO Analysis\", \"System Analysis\"],\n",
    "    \"Methodology\": [\"Waterfall\", \"Agile\", \"Spiral\", \"RAD\", \"XP\"],\n",
    "    \"Management\": [\"Project Management\", \"Risk Analysis\", \"Cost Estimation\", \"Planning\"],\n",
    "    \"Tools/Config\": [\"CASE Tools\", \"Configuration Management\", \"Version Control\", \"Documentation\"]\n",
    "}\n",
    "\n",
    "# Create reverse lookup for quick mapping\n",
    "category_map = {tech: cat for cat, techs in categories.items() for tech in techs}\n",
    "\n",
    "# Function to clean and categorize\n",
    "def categorize_techniques(tech_string):\n",
    "    if pd.isna(tech_string):\n",
    "        return None\n",
    "    techniques = [t.strip() for t in tech_string.split(\";\") if t.strip()]\n",
    "    mapped = [category_map.get(t, \"Other\") for t in techniques]\n",
    "    return \"; \".join(mapped)\n",
    "\n",
    "# Apply mapping\n",
    "df[\"Category\"] = df[\"Development Techniques\"].apply(categorize_techniques)\n",
    "\n",
    "# Check first 20 rows\n",
    "print(df[[\"Development Techniques\", \"Category\"]].head(20))"
   ]
  },
  {
   "cell_type": "code",
   "execution_count": 9,
   "id": "78258138",
   "metadata": {},
   "outputs": [
    {
     "name": "stdout",
     "output_type": "stream",
     "text": [
      "[nan 'Waterfall (includes Linear Processing)' 'Multifunctional Teams'\n",
      " 'Waterfall (incl Linear Processing & SSADM)'\n",
      " 'Joint Application Development (JAD)'\n",
      " 'Rapid Application Development (RAD)' 'Timeboxing' 'Incremental'\n",
      " 'Agile Development' 'Spiral' 'Iterative' 'Unified Process'\n",
      " 'Personal Software Process (PSP)' 'Scrum' 'Lean' 'OCE' 'Interactive'\n",
      " 'Extreme Programming (XP)' 'IMES OOM' 'IT Unified Process (ITUP)']\n",
      "Number of Categories: 19\n"
     ]
    }
   ],
   "source": [
    "# Work only on the \"Development Methodologies\" column\n",
    "df = df.explode(\"Development Methodologies\")\n",
    "\n",
    "# Before explode we need to split the string values on \";\"\n",
    "df[\"Development Methodologies\"] = df[\"Development Methodologies\"].dropna().str.split(\";\")\n",
    "\n",
    "# Explode to make sure one methodology per row\n",
    "df = df.explode(\"Development Methodologies\")\n",
    "\n",
    "# Strip whitespace and remove empty strings\n",
    "df[\"Development Methodologies\"] = df[\"Development Methodologies\"].str.strip()\n",
    "df = df[df[\"Development Methodologies\"] != \"\"]\n",
    "\n",
    "# Reset index\n",
    "df = df.reset_index(drop=True)\n",
    "\n",
    "print(df[\"Development Methodologies\"].unique())\n",
    "print(\"Number of Categories:\", df[\"Development Methodologies\"].nunique())"
   ]
  },
  {
   "cell_type": "code",
   "execution_count": 10,
   "id": "506df4ab",
   "metadata": {},
   "outputs": [
    {
     "name": "stdout",
     "output_type": "stream",
     "text": [
      "['Waterfall' 'Multifunctional Teams' 'Joint Application Development'\n",
      " 'Rapid Application Development' 'Agile Development' 'Spiral'\n",
      " 'Personal Software Process' 'OCE' 'Interactive' 'IMES OOM']\n",
      "Number of Categories: 10\n"
     ]
    }
   ],
   "source": [
    "import re\n",
    "\n",
    "def clean_methodology(m):\n",
    "    if pd.isna(m):\n",
    "        return None\n",
    "    # Remove bracket terms\n",
    "    m = re.sub(r\"\\(.*?\\)\", \"\", m).strip()\n",
    "\n",
    "    # Normalize related Agile terms\n",
    "    agile_aliases = [\n",
    "        \"Scrum\", \"Extreme Programming\", \"XP\", \"Lean\", \n",
    "        \"Timeboxing\", \"Incremental\", \"Iterative\", \n",
    "        \"Unified Process\", \"IT Unified Process\"\n",
    "    ]\n",
    "    if any(alias.lower() in m.lower() for alias in agile_aliases):\n",
    "        return \"Agile Development\"\n",
    "\n",
    "    # Waterfall\n",
    "    if \"Waterfall\" in m:\n",
    "        return \"Waterfall\"\n",
    "\n",
    "    return m\n",
    "\n",
    "# Apply cleaning\n",
    "df[\"Development Methodologies\"] = df[\"Development Methodologies\"].apply(clean_methodology)\n",
    "\n",
    "# Drop None\n",
    "df = df.dropna(subset=[\"Development Methodologies\"]).reset_index(drop=True)\n",
    "\n",
    "# Unique values\n",
    "print(df[\"Development Methodologies\"].unique())\n",
    "print(\"Number of Categories:\", df[\"Development Methodologies\"].nunique())\n"
   ]
  },
  {
   "cell_type": "code",
   "execution_count": null,
   "id": "397b40df",
   "metadata": {},
   "outputs": [
    {
     "name": "stdout",
     "output_type": "stream",
     "text": [
      "[None 'Waterfall' 'Multifunctional Teams'\n",
      " 'Joint Application Development;Multifunctional Teams;Rapid Application Development;Timeboxing'\n",
      " 'Incremental' 'Joint Application Development;Multifunctional Teams'\n",
      " 'Rapid Application Development' 'Agile Development' 'Spiral'\n",
      " 'Joint Application Development;Rapid Application Development' 'Iterative'\n",
      " 'Joint Application Development;Multifunctional Teams;Rapid Application Development'\n",
      " 'Joint Application Development' 'Timeboxing'\n",
      " 'Multifunctional Teams;Rapid Application Development'\n",
      " 'Multifunctional Teams;Rapid Application Development;Timeboxing'\n",
      " 'Multifunctional Teams;Timeboxing'\n",
      " 'Multifunctional Teams;Unified Process'\n",
      " 'Joint Application Development;Multifunctional Teams;Timeboxing'\n",
      " 'Unified Process' 'Agile Development;Unified Process'\n",
      " 'Agile Development;OCE;Unified Process' 'Multifunctional Teams;Waterfall'\n",
      " 'OCE' 'OCE;Unified Process' 'Agile Development;Iterative' 'Interactive'\n",
      " 'Joint Application Development;Rapid Application Development;Timeboxing'\n",
      " 'Rapid Application Development;Timeboxing' 'Iterative;Unified Process'\n",
      " 'Agile Development;Multifunctional Teams' 'Extreme Programming'\n",
      " 'Agile Development;Joint Application Development;Multifunctional Teams'\n",
      " 'Joint Application Development;Timeboxing'\n",
      " 'Agile Development;Extreme Programming;IMES OOM;Iterative;Rapid Application Development;Timeboxing;Unified Process']\n"
     ]
    }
   ],
   "source": [
    "import pandas as pd\n",
    "import re\n",
    "\n",
    "# Load dataset\n",
    "df = pd.read_csv(r\"C:\\Users\\Mirafra\\Mirafra\\ML PROJECT PRACTICE\\Project-Budget-Analyzer\\notebook\\data\\data_final.csv\")\n",
    "\n",
    "# Function to clean methodologies\n",
    "def clean_methodology(value):\n",
    "    if pd.isna(value):\n",
    "        return None\n",
    "    \n",
    "    # Split by ; and clean each\n",
    "    methods = [m.strip() for m in value.split(\";\") if m.strip()]\n",
    "    \n",
    "    cleaned = []\n",
    "    for m in methods:\n",
    "        # Remove bracket terms\n",
    "        m = re.sub(r\"\\(.*?\\)\", \"\", m).strip()\n",
    "        \n",
    "        # Normalize mappings\n",
    "        if m.lower() in [\"scrum\", \"extreme programming (xp)\", \"lean\"]:\n",
    "            m = \"Agile Development\"\n",
    "        elif \"unified process\" in m.lower() or \"it unified process\" in m.lower():\n",
    "            m = \"Unified Process\"\n",
    "        elif \"waterfall\" in m.lower():\n",
    "            m = \"Waterfall\"\n",
    "        elif \"jad\" in m.lower():\n",
    "            m = \"Joint Application Development\"\n",
    "        elif \"rad\" in m.lower():\n",
    "            m = \"Rapid Application Development\"\n",
    "        elif \"incremental\" in m.lower():\n",
    "            m = \"Incremental\"\n",
    "        elif \"spiral\" in m.lower():\n",
    "            m = \"Spiral\"\n",
    "        elif \"iterative\" in m.lower():\n",
    "            m = \"Iterative\"\n",
    "        elif \"psp\" in m.lower():\n",
    "            m = \"Personal Software Process\"\n",
    "        elif \"timeboxing\" in m.lower():\n",
    "            m = \"Timeboxing\"\n",
    "        elif \"multifunctional teams\" in m.lower():\n",
    "            m = \"Multifunctional Teams\"\n",
    "        elif \"oce\" in m.lower():\n",
    "            m = \"OCE\"\n",
    "        elif \"interactive\" in m.lower():\n",
    "            m = \"Interactive\"\n",
    "        elif \"imes oom\" in m.lower():\n",
    "            m = \"IMES OOM\"\n",
    "        \n",
    "        cleaned.append(m)\n",
    "    \n",
    "    # Keep only unique single methodology\n",
    "    if cleaned:\n",
    "        return \";\".join(sorted(set(cleaned)))\n",
    "    return None\n",
    "\n",
    "# Apply cleaning function\n",
    "df[\"Cleaned_Methodology\"] = df[\"Development Methodologies\"].apply(clean_methodology)\n",
    "\n",
    "# Save back\n",
    "df.to_csv(r\"C:\\Users\\Mirafra\\Mirafra\\ML PROJECT PRACTICE\\Project-Budget-Analyzer\\notebook\\data\\data_final.csv\", index=False)\n",
    "\n",
    "print(df[\"Cleaned_Methodology\"].unique())\n"
   ]
  },
  {
   "cell_type": "code",
   "execution_count": null,
   "id": "c36cf0b1",
   "metadata": {},
   "outputs": [
    {
     "name": "stdout",
     "output_type": "stream",
     "text": [
      "[None 'Waterfall' 'Multifunctional Teams' 'Joint Application Development'\n",
      " 'Incremental' 'Rapid Application Development' 'Agile Development'\n",
      " 'Spiral' 'Iterative' 'Timeboxing' 'Unified Process' 'OCE' 'Interactive'\n",
      " 'Extreme Programming']\n"
     ]
    }
   ],
   "source": [
    "# Apply cleaning function\n",
    "df[\"Cleaned_Methodology\"] = df[\"Development Methodologies\"].apply(clean_methodology)\n",
    "\n",
    "# Remove everything after ';'\n",
    "df[\"Cleaned_Methodology\"] = df[\"Cleaned_Methodology\"].str.split(\";\").str[0].str.strip()\n",
    "\n",
    "# Save back (overwrite the same CSV)\n",
    "df.to_csv(\n",
    "    r\"C:\\Users\\Mirafra\\Mirafra\\ML PROJECT PRACTICE\\Project-Budget-Analyzer\\notebook\\data\\data_final.csv\",\n",
    "    index=False\n",
    ")\n",
    "\n",
    "# Check unique cleaned values\n",
    "print(df[\"Cleaned_Methodology\"].unique())\n",
    "# Anuroop"
   ]
  },
  {
   "cell_type": "code",
   "execution_count": null,
   "id": "5b6da223",
   "metadata": {},
   "outputs": [
    {
     "name": "stdout",
     "output_type": "stream",
     "text": [
      "7\n"
     ]
    }
   ],
   "source": [
    "df=pd.read_csv(r\"C:\\Users\\Mirafra\\Mirafra\\ML PROJECT PRACTICE\\Project-Budget-Analyzer\\notebook\\data\\data_final.csv\")\n",
    "print(len(df['Application Group'].unique()))"
   ]
  },
  {
   "cell_type": "code",
   "execution_count": 32,
   "id": "7aaff911",
   "metadata": {},
   "outputs": [
    {
     "data": {
      "text/plain": [
       "array(['Business Application', nan,\n",
       "       'Mathematically Intensive Application',\n",
       "       'Mathematically intensive application', 'Real-Time Application',\n",
       "       'Mathematically-Intensive Application', 'Infrastructure Software',\n",
       "       'Real-Time application',\n",
       "       'Business Application; Infrastructure Software;'], dtype=object)"
      ]
     },
     "execution_count": 32,
     "metadata": {},
     "output_type": "execute_result"
    }
   ],
   "source": [
    "df['Application Group'].unique()"
   ]
  },
  {
   "cell_type": "code",
   "execution_count": 39,
   "id": "db4c8684",
   "metadata": {},
   "outputs": [
    {
     "data": {
      "text/plain": [
       "array(['Business Application', nan,\n",
       "       'Mathematically Intensive Application', 'Real-Time Application',\n",
       "       'Infrastructure Software',\n",
       "       'Business Application; Infrastructure Software;'], dtype=object)"
      ]
     },
     "execution_count": 39,
     "metadata": {},
     "output_type": "execute_result"
    }
   ],
   "source": [
    "df['Application Group']=df['Application Group'].replace(\"Real-Time application\",\"Real-Time Application\")\n",
    "df['Application Group'].unique()"
   ]
  },
  {
   "cell_type": "code",
   "execution_count": 40,
   "id": "3e41c33a",
   "metadata": {},
   "outputs": [],
   "source": [
    "df.to_csv(\n",
    "    r\"C:\\Users\\Mirafra\\Mirafra\\ML PROJECT PRACTICE\\Project-Budget-Analyzer\\notebook\\data\\data_final.csv\",\n",
    "    index=False\n",
    ")"
   ]
  },
  {
   "cell_type": "code",
   "execution_count": 73,
   "id": "f8008d22",
   "metadata": {},
   "outputs": [
    {
     "name": "stdout",
     "output_type": "stream",
     "text": [
      "['Community Services;Municipality;' 'Amusement/Game Center;'\n",
      " 'Government;Public Administration (Revenue);'\n",
      " 'Financial (Banking, Insurance, Stock);' 'Universal;' 'Publishing;'\n",
      " 'Utilities;' 'IT Services;'\n",
      " 'Government;Electricity, Gas, Water;Communications;Community Services;Professional Services;Electronics;'\n",
      " 'Oil & Petroleum;' 'Professional Services;Computers & Software;'\n",
      " 'Education Institution;Electricity, Gas, Water;University;'\n",
      " 'Communications;Computers & Software;'\n",
      " 'Information Technology Services Provider;'\n",
      " 'Manufacturing;Computers & Software;' 'Internet;' 'Post;'\n",
      " 'Manufacturing;Oil;' 'Medical and Health Care;Professional Services;'\n",
      " 'Government;Professional Services;'\n",
      " 'Aerospace / Automotive;Chemicals;Defence;Electronics;Food Processing;Government;Manufacturing;Medical and Health Care;Mining;Oil & Petroleum;Transport & Storage;Generic application;'\n",
      " 'Agriculture, Forestry, Fishing, Hunting;' 'Air Traffic Management;'\n",
      " 'Restaurant;' 'Surveillance & Security;']\n"
     ]
    }
   ],
   "source": [
    "cat=df['Organisation Type'].unique()\n",
    "print(cat[100:125])"
   ]
  },
  {
   "cell_type": "code",
   "execution_count": null,
   "id": "8d746e5b",
   "metadata": {},
   "outputs": [],
   "source": []
  },
  {
   "cell_type": "code",
   "execution_count": null,
   "id": "2abab883",
   "metadata": {},
   "outputs": [],
   "source": []
  },
  {
   "cell_type": "code",
   "execution_count": 74,
   "id": "ea0373a5",
   "metadata": {},
   "outputs": [
    {
     "name": "stdout",
     "output_type": "stream",
     "text": [
      "176\n"
     ]
    }
   ],
   "source": [
    "mapping = {\n",
    "    # Government-related\n",
    "    \"Community Services;Municipality;\": \"Government-related\",\n",
    "    \"Government;Public Administration (Revenue);\": \"Government-related\",\n",
    "    \"Government;Electricity, Gas, Water;Communications;Community Services;Professional Services;Electronics;\": \"Government-related\",\n",
    "    \"Government;Professional Services;\": \"Government-related\",\n",
    "    \"Air Traffic Management;\": \"Government-related\",\n",
    "\n",
    "    # Education-related\n",
    "    \"Education Institution;Electricity, Gas, Water;University;\": \"Education-related\",\n",
    "\n",
    "    # Industry-related\n",
    "    \"Oil & Petroleum;\": \"Industry-related\",\n",
    "    \"Manufacturing;Computers & Software;\": \"Industry-related\",\n",
    "    \"Manufacturing;Oil;\": \"Industry-related\",\n",
    "    \"Aerospace / Automotive;Chemicals;Defence;Electronics;Food Processing;Government;Manufacturing;Medical and Health Care;Mining;Oil & Petroleum;Transport & Storage;Generic application;\": \"Industry-related\",\n",
    "    \"Agriculture, Forestry, Fishing, Hunting;\": \"Industry-related\",\n",
    "    \"Utilities;\": \"Industry-related\",\n",
    "\n",
    "    # Trade & Services\n",
    "    \"Restaurant;\": \"Trade & Services\",\n",
    "    \"Post;\": \"Trade & Services\",\n",
    "    \"Financial (Banking, Insurance, Stock);\": \"Trade & Services\",\n",
    "    \"Professional Services;Computers & Software;\": \"Trade & Services\",\n",
    "    \"Publishing;\": \"Trade & Services\",\n",
    "    \"Surveillance & Security;\": \"Trade & Services\",\n",
    "\n",
    "    # Tech-related\n",
    "    \"IT Services;\": \"Tech-related\",\n",
    "    \"Communications;Computers & Software;\": \"Tech-related\",\n",
    "    \"Information Technology Services Provider;\": \"Tech-related\",\n",
    "    \"Internet;\": \"Tech-related\",\n",
    "\n",
    "    # Miscellaneous\n",
    "    \"Universal;\": \"Miscellaneous\",\n",
    "    \"Generic application;\": \"Miscellaneous\"\n",
    "}\n",
    "# print(len(df['Organisation Type'].unique()))\n",
    "df['Cleaned Organisation Type1'] = df['Organisation Type'].replace(mapping)\n",
    "print(len(df['Cleaned Organisation Type1'].unique()))"
   ]
  },
  {
   "cell_type": "code",
   "execution_count": 75,
   "id": "fe17c333",
   "metadata": {},
   "outputs": [
    {
     "data": {
      "text/plain": [
       "array(['Recreation & Personnel Services;', 'Construction;', 'Billing;',\n",
       "       nan, 'Wholesale & Retail Trade;', 'Insurance;', 'Banking;',\n",
       "       'Medical and Health Care;',\n",
       "       'Engineering;Research & Development;Software Development;Client/Server architecture for Language Services;',\n",
       "       'Telecommunication;', 'Ordering;', 'Sales & Marketing;',\n",
       "       'Manufacturing;', 'Voice Provisioning;',\n",
       "       'Government;Community Services;',\n",
       "       'Financial, Property & Business Services;', 'Telecommunications;',\n",
       "       'Computers & Software;',\n",
       "       'Public Administration;Community Services;Insurance;',\n",
       "       'Manufacturing;Transport & Storage;', 'Communications;',\n",
       "       'Electricity, Gas, Water;', 'Government;',\n",
       "       'Government;Education Institution;Wholesale & Retail Trade;Transport & Storage;Communications;Medical and Health Care;Banking;',\n",
       "       'Manufacturing;Wholesale & Retail Trade;Transport & Storage;',\n",
       "       'Citizens and the Municipalities;', 'Transport & Storage;',\n",
       "       'Car Rental;', 'Consumer Goods;',\n",
       "       'Public Administration;Insurance;',\n",
       "       'Computers & Software;Consumer Goods;Electronics;',\n",
       "       'Aerospace / Automotive;', 'Public Administration;', 'Media;',\n",
       "       'Government;Defence;',\n",
       "       'Public Administration;Aerospace / Automotive;Computers & Software;Insurance;',\n",
       "       'Electronics;', 'Aerospace / Automotive;Computers & Software;',\n",
       "       'Community Services;',\n",
       "       'Wholesale & Retail Trade;Transport & Storage;',\n",
       "       'Communications;Telecom;', 'Telecom;', 'Software products;',\n",
       "       'Airport;', 'Building Automation;', 'Oil;', 'Service;',\n",
       "       'Education Institution;Research;', 'Post/mail services;',\n",
       "       'Engineering;', 'Tax administration;', 'General;',\n",
       "       'Credit Card Processor;', 'Chemicals;', 'Business Services;',\n",
       "       'E-Business;',\n",
       "       'Agriculture, Forestry, Fishing, Hunting;Transport & Storage;',\n",
       "       'Public Administration;Community Services;',\n",
       "       'Medical and Health Care;Public Administration;Insurance;',\n",
       "       'Defence;', 'Warehouse Management;',\n",
       "       'Defence;Aerospace / Automotive;',\n",
       "       'general public (mobile phone end user);', 'Food Processing;',\n",
       "       'Transport & Storage;Professional Services;',\n",
       "       'Computers and IT business;',\n",
       "       'Financial, Property & Business Services;Banking;',\n",
       "       'Real Estate & Property Services;',\n",
       "       'Computer Systems Consultant;Public Administration;',\n",
       "       'Transit Corporation;', 'Energy;', 'Marketing;',\n",
       "       'Information Technology;', 'Logistics;',\n",
       "       'Agriculture, Forestry, Fishing, Hunting;Manufacturing;',\n",
       "       'Professional Services;', 'Revenue;',\n",
       "       'Construction;Financial, Property & Business Services;Government;Real Estate & Property Services;Transport & Storage;Housing;',\n",
       "       'Government;Public Administration;', 'Maintenance;',\n",
       "       'Government;Danish citizens;',\n",
       "       'Education Institution;Electricity, Gas, Water;IEEE;',\n",
       "       'All-purpose;', 'Computer Consultants;',\n",
       "       'Occupational Health and Safety;',\n",
       "       'Community Services;Government;Public administration;',\n",
       "       'Education Institution;', 'Manufacturing;Professional Services;',\n",
       "       'Local;', 'Wholesale & Retail Trade;Oil;',\n",
       "       'Communications;Telecom & Networking;',\n",
       "       'Human Resource (HR) Domain;',\n",
       "       'Logistic (Wholesale & Retail/Storage);',\n",
       "       'All industry organization types;',\n",
       "       'Government;Municipal Services;',\n",
       "       'Wholesale & Retail Trade;Financial, Property & Business Services;',\n",
       "       'Government;Local administration and counties;', 'Retail;',\n",
       "       'Government;Financial, Property & Business Services;',\n",
       "       'Manufacturing;Computers;Diversified Corp;', 'Government-related',\n",
       "       'Amusement/Game Center;', 'Trade & Services', 'Miscellaneous',\n",
       "       'Industry-related', 'Tech-related', 'Education-related',\n",
       "       'Medical and Health Care;Professional Services;',\n",
       "       'Government;Medical and Health Care;',\n",
       "       'Community Services;Invoice-handling;',\n",
       "       'Energy Sources (Oil & Petroleum/Electricity etc);',\n",
       "       'Chemicals;Energy;',\n",
       "       'Financial, Property & Business Services;Insurance;',\n",
       "       'Traffic (Aerospace/Railway/Automotive);Transport;',\n",
       "       'Real Estate & Property Services;Community Services;',\n",
       "       'Professional Services;Environmental Consulting;',\n",
       "       'Government;Public administration;', 'Consultancy;', 'Education;',\n",
       "       'Advertising;', 'Government;Real Estate & Property;',\n",
       "       'Service;Recreation, Personnel & Other Services;',\n",
       "       'Data Provisioning;',\n",
       "       'Agriculture, Forestry, Fishing, Hunting;Chemicals;Computers & Software;Construction;Defence;Electricity, Gas, Water;Electronics;Food Processing;Government;generic application;',\n",
       "       'Exhibition Management;', 'Travel;', 'Government;Municipal;',\n",
       "       'Revenue collection;',\n",
       "       'Agriculture, Forestry, Fishing, Hunting;Banking;',\n",
       "       'Government, Public Administration (Revenue);', 'Security;',\n",
       "       'Content Management;', 'Computers & Software;Citizens of DK;',\n",
       "       'Manufacturing;Computers;Diversified corporation;',\n",
       "       'Computers & Software;Human Ressources;', 'Mining;',\n",
       "       'Manufacturing;Wholesale & Retail Trade;',\n",
       "       'Government;Municipality;',\n",
       "       'Chemicals;Community Services;Electricity, Gas, Water;Government;',\n",
       "       'Transport & Storage;Aerospace / Automotive;',\n",
       "       'Virtual Assistants (Lingubots);', 'Public Sector;',\n",
       "       'Transport & Storage;Media;',\n",
       "       'UniversityEvent Management-involves external users;',\n",
       "       'Community Services;Institutions eg. Kindergartens;',\n",
       "       'Agriculture, Forestry, Fishing, Hunting;Government;',\n",
       "       'Distribution;',\n",
       "       'Information Technology;Human Resource (HR) Domain;', 'High Tech;',\n",
       "       'Coronial Services;',\n",
       "       'Financial, Property & Business Services;(Banking, Insurance, Stock);',\n",
       "       'Government;Defence;Aerospace / Automotive;',\n",
       "       'Recreation & Personnel Services;Professional Services;Computers & Software;',\n",
       "       'Biotech;', 'Mining;Manufacturing;Chemicals;',\n",
       "       'Commercial services;', 'Sales;',\n",
       "       'Developing global software solutions;', 'Imaging;',\n",
       "       'Research & development;', 'Government;Electricity, Gas, Water;',\n",
       "       'Manufacturing;Consumer Goods;',\n",
       "       'Wholesale & Retail Trade;Consumer Goods;',\n",
       "       'Wholesale & Retail Trade;Computers & Software;',\n",
       "       'Communications;Electronics;',\n",
       "       'Transport & Storage;Public Administration;',\n",
       "       'Communications;Financial (Banking, Insurance, Stock);Government;Public Administration (Revenue);Manufacturing;Medical and Health Care;Post;Traffic (Aerospace/railway/Automotive);Transport;Logistic (Wholesale & Retail/Storage);Research & Development;Energy',\n",
       "       'Services;', 'IS-Metrics collection system;',\n",
       "       'Manufacturing;Manufacture of steel products;',\n",
       "       'Any organization which counts function points;', 'Finance;',\n",
       "       'Government;Real Estate & Property;Education Institution;Manufacturing;Construction;Wholesale & Retail Trade;Transport & Storage;Communications;Medical and Health Care;Community Services;Defence;Financial, Property & Business Services;Banking;Professional',\n",
       "       'Public Administration;Financial, Property & Business Services;',\n",
       "       'Government;Health Sciences;',\n",
       "       'Environmental Monitoring;Public Administration;'], dtype=object)"
      ]
     },
     "execution_count": 75,
     "metadata": {},
     "output_type": "execute_result"
    }
   ],
   "source": [
    "df['Cleaned Organisation Type1'].unique()"
   ]
  },
  {
   "cell_type": "code",
   "execution_count": 76,
   "id": "fb5bbea0",
   "metadata": {},
   "outputs": [
    {
     "data": {
      "text/plain": [
       "array(['4GL', '3GL', nan, 'ApG', '2GL', 'APG', '5GL'], dtype=object)"
      ]
     },
     "execution_count": 76,
     "metadata": {},
     "output_type": "execute_result"
    }
   ],
   "source": [
    "df['Language Type'].unique()"
   ]
  },
  {
   "cell_type": "code",
   "execution_count": 79,
   "id": "5c702fa1",
   "metadata": {},
   "outputs": [
    {
     "data": {
      "text/plain": [
       "array(['4GL', '3GL', nan, '2GL', '5GL'], dtype=object)"
      ]
     },
     "execution_count": 79,
     "metadata": {},
     "output_type": "execute_result"
    }
   ],
   "source": [
    "df['Language Type']=df['Language Type'].replace(\"APG\",\"4GL\")\n",
    "df['Language Type'].unique()"
   ]
  },
  {
   "cell_type": "code",
   "execution_count": 80,
   "id": "5ad75760",
   "metadata": {},
   "outputs": [],
   "source": [
    "df.to_csv(\n",
    "    r\"C:\\Users\\Mirafra\\Mirafra\\ML PROJECT PRACTICE\\Project-Budget-Analyzer\\notebook\\data\\data_final.csv\",\n",
    "    index=False\n",
    ")"
   ]
  },
  {
   "cell_type": "code",
   "execution_count": 88,
   "id": "4d9ac7f1",
   "metadata": {},
   "outputs": [
    {
     "data": {
      "text/plain": [
       "Development Type\n",
       "Enhancement        4392\n",
       "New Development    2248\n",
       "Re-development       99\n",
       "Other                21\n",
       "Name: count, dtype: int64"
      ]
     },
     "execution_count": 88,
     "metadata": {},
     "output_type": "execute_result"
    }
   ],
   "source": [
    "df['Development Type'].unique()\n",
    "df['Development Type'].value_counts()\n",
    "# 'Other' and 'Not Defined' will appear as separate categories\n"
   ]
  },
  {
   "cell_type": "code",
   "execution_count": 87,
   "id": "aec2f6ea",
   "metadata": {},
   "outputs": [],
   "source": [
    "df['Development Type']=df['Development Type'].replace(\"POC\",\"Other\")"
   ]
  },
  {
   "cell_type": "code",
   "execution_count": 89,
   "id": "2787de88",
   "metadata": {},
   "outputs": [],
   "source": [
    "df.to_csv(\n",
    "    r\"C:\\Users\\Mirafra\\Mirafra\\ML PROJECT PRACTICE\\Project-Budget-Analyzer\\notebook\\data\\data_final.csv\",\n",
    "    index=False\n",
    ")"
   ]
  }
 ],
 "metadata": {
  "kernelspec": {
   "display_name": "Python 3",
   "language": "python",
   "name": "python3"
  },
  "language_info": {
   "codemirror_mode": {
    "name": "ipython",
    "version": 3
   },
   "file_extension": ".py",
   "mimetype": "text/x-python",
   "name": "python",
   "nbconvert_exporter": "python",
   "pygments_lexer": "ipython3",
   "version": "3.13.4"
  }
 },
 "nbformat": 4,
 "nbformat_minor": 5
}

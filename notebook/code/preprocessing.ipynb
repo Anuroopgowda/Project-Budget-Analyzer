{
 "cells": [
  {
   "cell_type": "markdown",
   "id": "8ab263f7",
   "metadata": {},
   "source": [
    "PREPROCESSING\n",
    "1.categorical feature\n",
    "2.contineous feature \n",
    "3.encoding\n",
    "4.handleing outliers\n",
    "5.feature scaling"
   ]
  },
  {
   "cell_type": "code",
   "execution_count": null,
   "id": "11acfa7f",
   "metadata": {
    "vscode": {
     "languageId": "plaintext"
    }
   },
   "outputs": [],
   "source": []
  }
 ],
 "metadata": {
  "language_info": {
   "name": "python"
  }
 },
 "nbformat": 4,
 "nbformat_minor": 5
}

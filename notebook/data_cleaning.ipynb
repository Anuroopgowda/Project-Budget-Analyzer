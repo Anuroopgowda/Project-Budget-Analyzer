{
 "cells": [
  {
   "cell_type": "code",
   "execution_count": 1,
   "id": "6084bc01",
   "metadata": {},
   "outputs": [],
   "source": [
    "import pandas as pd\n",
    "import numpy as np"
   ]
  },
  {
   "cell_type": "code",
   "execution_count": 4,
   "id": "8be191bb",
   "metadata": {},
   "outputs": [
    {
     "name": "stdout",
     "output_type": "stream",
     "text": [
      "130\n",
      "['ISBSG Project ID', 'Data Quality Rating', 'UFP rating', 'Year of Project', 'Industry Sector', 'Organisation Type', 'Application Group', 'Application Type', 'Development Type', 'Development Platform']\n",
      "['Language Type', 'Primary Programming Language', 'Count Approach', 'Functional Size', 'Relative Size', 'Adjusted Function Points', 'Value Adjustment Factor', 'Normalised Work Effort Level 1', 'Normalised Work Effort', 'Summary Work Effort']\n",
      "['Normalised Level 1 PDR (ufp)', 'Normalised PDR (ufp)', 'Pre 2002 PDR', 'Defect Density', 'Speed of Delivery', 'Manpower Delivery Rate', 'Project Elapsed Time', 'Project Inactive Time', 'Implementation Date', 'Project Activity Scope']\n",
      "['Effort Plan', 'Effort Specify', 'Effort Design', 'Effort Build', 'Effort Test', 'Effort Implement', 'Effort Unrecorded', 'Minor Defects', 'Major Defects', 'Extreme Defects']\n",
      "['Total Defects Delivered', 'Business Area Type', 'Software Process CMM', 'Software Process CMMI', 'Software Process SPICE', 'Software Process ISO', 'Software Process TICKIT', 'Software Process Other', 'Package Customisation', 'Degree of Customisation']\n",
      "['Architecture', 'Client Server?', 'Client Roles', 'Server Roles', 'Type of Server', 'Client/Server Description', 'Web Development', 'Development Methodologies', 'Development Techniques', 'JAD Method Used']\n",
      "['Agile Method Used', 'Sprints / iterations', 'Sprints / iterations length', 'Sprints / iterations size', 'Prototyping Used', 'Planning Documents', 'Specification Documents', 'Specification Techniques', 'Design Documents', 'Design Techniques']\n",
      "['Build Products', 'Build Activity', 'Test Documents', 'Test Activity', 'Implement Documents', 'Implement Activity', 'Functional Sizing Technique', 'FP Standard', 'FP Standards All', 'Reference Table Approach']\n",
      "['1st Hardware', '1st Language', '1st Operating System', 'Integrated Development Environment', '1st Debugging Tool', '1st Data Base System', '1st Component Server', '1st Web Server', '1st Message Server', '1st Other Platform']\n",
      "['2nd Hardware', '2nd Language', '2nd Operating System', '2nd Data Base System', '2nd Component Server', '2nd Web Server', '2nd Message Server', '2nd Other Platform', 'CASE Tool Used', 'Used Methodology']\n",
      "['How Methodology Acquired', 'User Base - Business Units', 'User Base - Locations', 'User Base - Distinct Users', 'User Base - Concurrent Users', 'Intended Market', 'Target Platform', 'Device Embedded', 'Recording Method', 'Resource Level']\n",
      "['Team Size Group', 'Max Team Size', 'Average Team Size', 'Ratio of Project Work Effort to Non-Project Activity', 'Percentage of Uncollected Work Effort', 'Input count', 'Output count', 'Enquiry count', 'File count', 'Interface count']\n",
      "['Added count', 'Changed count', 'Deleted count', 'COSMIC Entry', 'COSMIC Exit', 'COSMIC Read', 'COSMIC Write', 'Lines of Code', 'Lines of Code not Statements', 'Other Size Units']\n",
      "Saved 130 column names into columns_list.xlsx\n"
     ]
    }
   ],
   "source": [
    "# fetch all the columns\n",
    "df=pd.read_csv(\"data_cleaned.csv\")\n",
    "col_list=df.columns.to_list()\n",
    "# length\n",
    "print(len(col_list))\n",
    "for i in range(0,len(col_list),10):\n",
    "    print(col_list[i:i+10])\n",
    "\n",
    "col_df = pd.DataFrame({\"Column Names\": col_list})\n",
    "col_df.to_excel(\"columns_list.xlsx\", index=False)\n",
    "\n",
    "print(f\"Saved {len(col_list)} column names into columns_list.xlsx\")"
   ]
  },
  {
   "cell_type": "code",
   "execution_count": 6,
   "id": "c1ffdb00",
   "metadata": {},
   "outputs": [],
   "source": [
    "# Features to keep\n",
    "selected_cols = [\n",
    "    \"Year of Project\", \"Industry Sector\", \"Organisation Type\", \n",
    "    \"Application Group\", \"Application Type\", \"Development Type\", \n",
    "    \"Development Platform\", \"Business Area Type\", \"Language Type\", \n",
    "    \"Primary Programming Language\", \"Relative Size\", \"Functional Size\", \n",
    "    \"Adjusted Function Points\", \"Lines of Code\", \"Package Customisation\", \n",
    "    \"Degree of Customisation\", \"Architecture\", \"Client Server?\", \n",
    "    \"Web Development\", \"Agile Method Used\", \"Used Methodology\", \n",
    "    \"Development Methodologies\", \"Development Techniques\", \n",
    "    \"Resource Level\", \"Team Size Group\", \"Max Team Size\", \n",
    "    \"Average Team Size\",\n",
    "    \"Project Inactive Time\",\n",
    "    \"Ratio of Project Work Effort to Non-Project Activity\",\n",
    "    \"Percentage of Uncollected Work Effort\",\"Summary Work Effort\", \"Project Elapsed Time\"\n",
    "]\n",
    "cleaned_dataset = df[selected_cols]\n",
    "cleaned_dataset.to_csv(\"cleaned_dataset.csv\", index=False)"
   ]
  }
 ],
 "metadata": {
  "kernelspec": {
   "display_name": "Python 3",
   "language": "python",
   "name": "python3"
  },
  "language_info": {
   "codemirror_mode": {
    "name": "ipython",
    "version": 3
   },
   "file_extension": ".py",
   "mimetype": "text/x-python",
   "name": "python",
   "nbconvert_exporter": "python",
   "pygments_lexer": "ipython3",
   "version": "3.13.4"
  }
 },
 "nbformat": 4,
 "nbformat_minor": 5
}
